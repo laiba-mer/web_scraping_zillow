{
  "nbformat": 4,
  "nbformat_minor": 0,
  "metadata": {
    "colab": {
      "provenance": []
    },
    "kernelspec": {
      "name": "python3",
      "display_name": "Python 3"
    },
    "language_info": {
      "name": "python"
    }
  },
  "cells": [
    {
      "cell_type": "markdown",
      "source": [
        "Task=Web Scraping\n",
        "\n",
        "Website=www.zillow.com\n",
        "\n",
        "By Laiba Meer"
      ],
      "metadata": {
        "id": "Ll4X6M80ltrc"
      }
    },
    {
      "cell_type": "markdown",
      "source": [
        "#Importing Necessary Libraries"
      ],
      "metadata": {
        "id": "OFwLDDdQmMjO"
      }
    },
    {
      "cell_type": "code",
      "execution_count": 40,
      "metadata": {
        "id": "ZaAUpOb0vONV"
      },
      "outputs": [],
      "source": [
        "import requests\n",
        "from bs4 import BeautifulSoup as soup\n",
        "#Set Header\n",
        "header = {'user-agent': 'Mozilla/5.0 (Windows NT 10.0; WOW64) AppleWebKit/537.36 (KHTML, like Gecko) Chrome/83.0.4103.97 Safari/537.36',\n",
        "\n",
        "  'referer': 'https://www.zillow.com/homes/for_rent/Manhattan,-New-York,-NY_rb/?searchQueryState=%7B%22pagination'\n",
        "\n",
        "}\n"
      ]
    },
    {
      "cell_type": "code",
      "source": [
        "#Send a get request:\n",
        "url = 'https://www.zillow.com/homes/for_rent/Manhattan,-New-York,-NY_rb'\n",
        "html = requests.get(url=url,headers=header)\n",
        "html.status_code"
      ],
      "metadata": {
        "colab": {
          "base_uri": "https://localhost:8080/"
        },
        "id": "HI5lsqRi5duU",
        "outputId": "62b43539-348c-435d-a139-b2b4597fffa9"
      },
      "execution_count": 41,
      "outputs": [
        {
          "output_type": "execute_result",
          "data": {
            "text/plain": [
              "200"
            ]
          },
          "metadata": {},
          "execution_count": 41
        }
      ]
    },
    {
      "cell_type": "code",
      "source": [
        "bsobj=soup(html.content,'lxml')\n",
        "bsobj"
      ],
      "metadata": {
        "id": "7eI0qGKI5tFw"
      },
      "execution_count": null,
      "outputs": []
    },
    {
      "cell_type": "markdown",
      "source": [
        "#Listing prices"
      ],
      "metadata": {
        "id": "F5itP8iRcqr6"
      }
    },
    {
      "cell_type": "code",
      "source": [
        "price_list = []\n",
        "for price in bsobj.findAll('div',{'class':'StyledPropertyCardDataArea-c11n-8-84-3__sc-yipmu-0 dbDWjx'}):\n",
        "  #print('price is: ', price.text.replace('bd','b|').replace('|s','|').replace('io','io|').strip().split('|')[:-1])\n",
        "  price_list.append(price.text.replace('bd','b|').replace('|s','|').replace('o','o|').strip().split('|')[:-1])\n",
        "price_list\n",
        "\n"
      ],
      "metadata": {
        "colab": {
          "base_uri": "https://localhost:8080/"
        },
        "id": "tPCdBih36FEV",
        "outputId": "c68c383b-bf9b-4c43-db8b-8d0f41944cf8"
      },
      "execution_count": 49,
      "outputs": [
        {
          "output_type": "execute_result",
          "data": {
            "text/plain": [
              "[['$5,344+ 1 b', '$11,291+ 2 b'],\n",
              " ['$4,560+ 1 b'],\n",
              " ['$3,939+ 1 b', '$5,092+ 2 b', '$6,324+ 3 b'],\n",
              " ['$6,866+ 2 b'],\n",
              " ['$4,950+ 1 b', '$8,585+ 2 b'],\n",
              " ['$3,883+ 1 b', '$6,288+ 2 b'],\n",
              " ['$5,769+ 1 b'],\n",
              " ['$5,380+ 1 b', '$8,310+ 2 b'],\n",
              " ['$8,495+ 2 b']]"
            ]
          },
          "metadata": {},
          "execution_count": 49
        }
      ]
    },
    {
      "cell_type": "markdown",
      "source": [
        "#Listing address"
      ],
      "metadata": {
        "id": "fdtO6FCkcvXU"
      }
    },
    {
      "cell_type": "code",
      "source": [
        "address = []\n",
        "for adr in bsobj.findAll('div',{'class':'StyledPropertyCardDataWrapper-c11n-8-84-3__sc-1omp4c3-0 bKpguY property-card-data'}):\n",
        "  address.append(adr.a.text.strip())\n",
        "address"
      ],
      "metadata": {
        "colab": {
          "base_uri": "https://localhost:8080/"
        },
        "id": "L2Om87ahBU5c",
        "outputId": "517ab3ee-ca7f-4a55-f6df-589cc2433ae6"
      },
      "execution_count": 100,
      "outputs": [
        {
          "output_type": "execute_result",
          "data": {
            "text/plain": [
              "['19 Dutch | 19 Dutch St, New York, NY',\n",
              " 'AVA High Line | 525 W 28th St, New York, NY',\n",
              " 'The Oriana | 420 E 54th St, New York, NY',\n",
              " 'The Chelsea | 160 W 24th St, New York, NY',\n",
              " 'The Eugene | 435 W 31st St, New York, NY',\n",
              " 'Avalon Midtown West | 250 W 50th St, New York, NY',\n",
              " 'The Dylan | 309 5th Ave, New York, NY',\n",
              " 'Avalon Bowery Place | 11 E 1st St, New York, NY',\n",
              " 'Two Lincoln Square | 60 W 66th St, New York, NY']"
            ]
          },
          "metadata": {},
          "execution_count": 100
        }
      ]
    },
    {
      "cell_type": "code",
      "source": [
        "# Assuming 'Titles' is the list you obtained\n",
        "titles = [addr.split('|')[0].strip() for addr in address]\n",
        "\n",
        "print(titles)\n"
      ],
      "metadata": {
        "colab": {
          "base_uri": "https://localhost:8080/"
        },
        "id": "UJh5lH67bVCl",
        "outputId": "4f8b0a8e-2441-4220-bdc5-2fff378d63ca"
      },
      "execution_count": 108,
      "outputs": [
        {
          "output_type": "stream",
          "name": "stdout",
          "text": [
            "['19 Dutch', 'AVA High Line', 'The Oriana', 'The Chelsea', 'The Eugene', 'Avalon Midtown West', 'The Dylan', 'Avalon Bowery Place', 'Two Lincoln Square']\n"
          ]
        }
      ]
    },
    {
      "cell_type": "code",
      "source": [
        "# Assuming 'address' is the list you obtained\n",
        "adress = [addr.split('|')[1].strip() for addr in address]\n",
        "\n",
        "print(adress)"
      ],
      "metadata": {
        "colab": {
          "base_uri": "https://localhost:8080/"
        },
        "id": "P0GgM5hWcY6X",
        "outputId": "3496bc6a-581a-469a-db53-b6b533ee1331"
      },
      "execution_count": 114,
      "outputs": [
        {
          "output_type": "stream",
          "name": "stdout",
          "text": [
            "['19 Dutch St, New York, NY', '525 W 28th St, New York, NY', '420 E 54th St, New York, NY', '160 W 24th St, New York, NY', '435 W 31st St, New York, NY', '250 W 50th St, New York, NY', '309 5th Ave, New York, NY', '11 E 1st St, New York, NY', '60 W 66th St, New York, NY']\n"
          ]
        }
      ]
    },
    {
      "cell_type": "markdown",
      "source": [
        "#URL Of listing"
      ],
      "metadata": {
        "id": "DvxcQYa7dJPI"
      }
    },
    {
      "cell_type": "code",
      "source": [
        "website_links = []\n",
        "\n",
        "# Assuming the base URL of the website\n",
        "base_url = 'https://www.zillow.com'  # Replace with the actual base URL\n",
        "\n",
        "for adr in bsobj.findAll('div', {'class': 'StyledPropertyCardDataWrapper-c11n-8-84-3__sc-1omp4c3-0 bKpguY property-card-data'}):\n",
        "    # Assuming the website link is within a child <a> tag, adjust this based on the HTML structure\n",
        "    relative_url = adr.find('a', {'class': 'property-card-link'})['href']\n",
        "\n",
        "    # Construct the absolute URL\n",
        "    absolute_url = base_url + relative_url\n",
        "\n",
        "    website_links.append(absolute_url)\n",
        "\n",
        "print(website_links)"
      ],
      "metadata": {
        "colab": {
          "base_uri": "https://localhost:8080/"
        },
        "id": "6J2kGTqyj04V",
        "outputId": "c6e49c57-2dd8-47ba-e6a6-b1cb8be79cb6"
      },
      "execution_count": 144,
      "outputs": [
        {
          "output_type": "stream",
          "name": "stdout",
          "text": [
            "['https://www.zillow.com/apartments/manhattan-ny/19-dutch/B3qnH3/', 'https://www.zillow.com/apartments/new-york-ny/ava-high-line/4MH7/', 'https://www.zillow.com/apartments/manhattan-ny/the-oriana/5XWNCh/', 'https://www.zillow.com/apartments/new-york-ny/the-chelsea/5XT2qW/', 'https://www.zillow.com/apartments/new-york-ny/the-eugene/B73Y66/', 'https://www.zillow.com/apartments/new-york-ny/avalon-midtown-west/5XVMHG/', 'https://www.zillow.com/apartments/manhattan-ny/the-dylan/3LSS/', 'https://www.zillow.com/apartments/new-york-ny/avalon-bowery-place/5XVHKv/', 'https://www.zillow.com/apartments/manhattan-ny/two-lincoln-square/9gpqwm/']\n"
          ]
        }
      ]
    },
    {
      "cell_type": "markdown",
      "source": [
        "#Dataframe"
      ],
      "metadata": {
        "id": "V7nRtHW1dNPL"
      }
    },
    {
      "cell_type": "code",
      "source": [
        "import pandas as pd\n",
        "df = pd.DataFrame(price_list,columns=['Price1','Price2','Price3'])\n",
        "df['Listing_Title'] = titles\n",
        "df['Address'] = adress\n",
        "df['URL']=website_links\n"
      ],
      "metadata": {
        "id": "H7Zyql2qFzPL"
      },
      "execution_count": 145,
      "outputs": []
    },
    {
      "cell_type": "code",
      "source": [
        "# Rearrange the columns\n",
        "df = df[['Listing_Title', 'Address', 'Price1', 'Price2', 'Price3','URL']]"
      ],
      "metadata": {
        "id": "JG9zmqasJiFb"
      },
      "execution_count": 146,
      "outputs": []
    },
    {
      "cell_type": "code",
      "source": [
        "df"
      ],
      "metadata": {
        "colab": {
          "base_uri": "https://localhost:8080/",
          "height": 332
        },
        "id": "gx_jtBMHFgi5",
        "outputId": "3b935b81-0260-4b9f-f567-9486ea807928"
      },
      "execution_count": 147,
      "outputs": [
        {
          "output_type": "execute_result",
          "data": {
            "text/plain": [
              "         Listing_Title                      Address       Price1  \\\n",
              "0             19 Dutch    19 Dutch St, New York, NY  $5,344+ 1 b   \n",
              "1        AVA High Line  525 W 28th St, New York, NY  $4,560+ 1 b   \n",
              "2           The Oriana  420 E 54th St, New York, NY  $3,939+ 1 b   \n",
              "3          The Chelsea  160 W 24th St, New York, NY  $6,866+ 2 b   \n",
              "4           The Eugene  435 W 31st St, New York, NY  $4,950+ 1 b   \n",
              "5  Avalon Midtown West  250 W 50th St, New York, NY  $3,883+ 1 b   \n",
              "6            The Dylan    309 5th Ave, New York, NY  $5,769+ 1 b   \n",
              "7  Avalon Bowery Place    11 E 1st St, New York, NY  $5,380+ 1 b   \n",
              "8   Two Lincoln Square   60 W 66th St, New York, NY  $8,495+ 2 b   \n",
              "\n",
              "         Price2       Price3  \\\n",
              "0  $11,291+ 2 b         None   \n",
              "1          None         None   \n",
              "2   $5,092+ 2 b  $6,324+ 3 b   \n",
              "3          None         None   \n",
              "4   $8,585+ 2 b         None   \n",
              "5   $6,288+ 2 b         None   \n",
              "6          None         None   \n",
              "7   $8,310+ 2 b         None   \n",
              "8          None         None   \n",
              "\n",
              "                                                 URL  \n",
              "0  https://www.zillow.com/apartments/manhattan-ny...  \n",
              "1  https://www.zillow.com/apartments/new-york-ny/...  \n",
              "2  https://www.zillow.com/apartments/manhattan-ny...  \n",
              "3  https://www.zillow.com/apartments/new-york-ny/...  \n",
              "4  https://www.zillow.com/apartments/new-york-ny/...  \n",
              "5  https://www.zillow.com/apartments/new-york-ny/...  \n",
              "6  https://www.zillow.com/apartments/manhattan-ny...  \n",
              "7  https://www.zillow.com/apartments/new-york-ny/...  \n",
              "8  https://www.zillow.com/apartments/manhattan-ny...  "
            ],
            "text/html": [
              "\n",
              "  <div id=\"df-1143605a-b85b-4523-b240-ce287f5cbe2f\" class=\"colab-df-container\">\n",
              "    <div>\n",
              "<style scoped>\n",
              "    .dataframe tbody tr th:only-of-type {\n",
              "        vertical-align: middle;\n",
              "    }\n",
              "\n",
              "    .dataframe tbody tr th {\n",
              "        vertical-align: top;\n",
              "    }\n",
              "\n",
              "    .dataframe thead th {\n",
              "        text-align: right;\n",
              "    }\n",
              "</style>\n",
              "<table border=\"1\" class=\"dataframe\">\n",
              "  <thead>\n",
              "    <tr style=\"text-align: right;\">\n",
              "      <th></th>\n",
              "      <th>Listing_Title</th>\n",
              "      <th>Address</th>\n",
              "      <th>Price1</th>\n",
              "      <th>Price2</th>\n",
              "      <th>Price3</th>\n",
              "      <th>URL</th>\n",
              "    </tr>\n",
              "  </thead>\n",
              "  <tbody>\n",
              "    <tr>\n",
              "      <th>0</th>\n",
              "      <td>19 Dutch</td>\n",
              "      <td>19 Dutch St, New York, NY</td>\n",
              "      <td>$5,344+ 1 b</td>\n",
              "      <td>$11,291+ 2 b</td>\n",
              "      <td>None</td>\n",
              "      <td>https://www.zillow.com/apartments/manhattan-ny...</td>\n",
              "    </tr>\n",
              "    <tr>\n",
              "      <th>1</th>\n",
              "      <td>AVA High Line</td>\n",
              "      <td>525 W 28th St, New York, NY</td>\n",
              "      <td>$4,560+ 1 b</td>\n",
              "      <td>None</td>\n",
              "      <td>None</td>\n",
              "      <td>https://www.zillow.com/apartments/new-york-ny/...</td>\n",
              "    </tr>\n",
              "    <tr>\n",
              "      <th>2</th>\n",
              "      <td>The Oriana</td>\n",
              "      <td>420 E 54th St, New York, NY</td>\n",
              "      <td>$3,939+ 1 b</td>\n",
              "      <td>$5,092+ 2 b</td>\n",
              "      <td>$6,324+ 3 b</td>\n",
              "      <td>https://www.zillow.com/apartments/manhattan-ny...</td>\n",
              "    </tr>\n",
              "    <tr>\n",
              "      <th>3</th>\n",
              "      <td>The Chelsea</td>\n",
              "      <td>160 W 24th St, New York, NY</td>\n",
              "      <td>$6,866+ 2 b</td>\n",
              "      <td>None</td>\n",
              "      <td>None</td>\n",
              "      <td>https://www.zillow.com/apartments/new-york-ny/...</td>\n",
              "    </tr>\n",
              "    <tr>\n",
              "      <th>4</th>\n",
              "      <td>The Eugene</td>\n",
              "      <td>435 W 31st St, New York, NY</td>\n",
              "      <td>$4,950+ 1 b</td>\n",
              "      <td>$8,585+ 2 b</td>\n",
              "      <td>None</td>\n",
              "      <td>https://www.zillow.com/apartments/new-york-ny/...</td>\n",
              "    </tr>\n",
              "    <tr>\n",
              "      <th>5</th>\n",
              "      <td>Avalon Midtown West</td>\n",
              "      <td>250 W 50th St, New York, NY</td>\n",
              "      <td>$3,883+ 1 b</td>\n",
              "      <td>$6,288+ 2 b</td>\n",
              "      <td>None</td>\n",
              "      <td>https://www.zillow.com/apartments/new-york-ny/...</td>\n",
              "    </tr>\n",
              "    <tr>\n",
              "      <th>6</th>\n",
              "      <td>The Dylan</td>\n",
              "      <td>309 5th Ave, New York, NY</td>\n",
              "      <td>$5,769+ 1 b</td>\n",
              "      <td>None</td>\n",
              "      <td>None</td>\n",
              "      <td>https://www.zillow.com/apartments/manhattan-ny...</td>\n",
              "    </tr>\n",
              "    <tr>\n",
              "      <th>7</th>\n",
              "      <td>Avalon Bowery Place</td>\n",
              "      <td>11 E 1st St, New York, NY</td>\n",
              "      <td>$5,380+ 1 b</td>\n",
              "      <td>$8,310+ 2 b</td>\n",
              "      <td>None</td>\n",
              "      <td>https://www.zillow.com/apartments/new-york-ny/...</td>\n",
              "    </tr>\n",
              "    <tr>\n",
              "      <th>8</th>\n",
              "      <td>Two Lincoln Square</td>\n",
              "      <td>60 W 66th St, New York, NY</td>\n",
              "      <td>$8,495+ 2 b</td>\n",
              "      <td>None</td>\n",
              "      <td>None</td>\n",
              "      <td>https://www.zillow.com/apartments/manhattan-ny...</td>\n",
              "    </tr>\n",
              "  </tbody>\n",
              "</table>\n",
              "</div>\n",
              "    <div class=\"colab-df-buttons\">\n",
              "\n",
              "  <div class=\"colab-df-container\">\n",
              "    <button class=\"colab-df-convert\" onclick=\"convertToInteractive('df-1143605a-b85b-4523-b240-ce287f5cbe2f')\"\n",
              "            title=\"Convert this dataframe to an interactive table.\"\n",
              "            style=\"display:none;\">\n",
              "\n",
              "  <svg xmlns=\"http://www.w3.org/2000/svg\" height=\"24px\" viewBox=\"0 -960 960 960\">\n",
              "    <path d=\"M120-120v-720h720v720H120Zm60-500h600v-160H180v160Zm220 220h160v-160H400v160Zm0 220h160v-160H400v160ZM180-400h160v-160H180v160Zm440 0h160v-160H620v160ZM180-180h160v-160H180v160Zm440 0h160v-160H620v160Z\"/>\n",
              "  </svg>\n",
              "    </button>\n",
              "\n",
              "  <style>\n",
              "    .colab-df-container {\n",
              "      display:flex;\n",
              "      gap: 12px;\n",
              "    }\n",
              "\n",
              "    .colab-df-convert {\n",
              "      background-color: #E8F0FE;\n",
              "      border: none;\n",
              "      border-radius: 50%;\n",
              "      cursor: pointer;\n",
              "      display: none;\n",
              "      fill: #1967D2;\n",
              "      height: 32px;\n",
              "      padding: 0 0 0 0;\n",
              "      width: 32px;\n",
              "    }\n",
              "\n",
              "    .colab-df-convert:hover {\n",
              "      background-color: #E2EBFA;\n",
              "      box-shadow: 0px 1px 2px rgba(60, 64, 67, 0.3), 0px 1px 3px 1px rgba(60, 64, 67, 0.15);\n",
              "      fill: #174EA6;\n",
              "    }\n",
              "\n",
              "    .colab-df-buttons div {\n",
              "      margin-bottom: 4px;\n",
              "    }\n",
              "\n",
              "    [theme=dark] .colab-df-convert {\n",
              "      background-color: #3B4455;\n",
              "      fill: #D2E3FC;\n",
              "    }\n",
              "\n",
              "    [theme=dark] .colab-df-convert:hover {\n",
              "      background-color: #434B5C;\n",
              "      box-shadow: 0px 1px 3px 1px rgba(0, 0, 0, 0.15);\n",
              "      filter: drop-shadow(0px 1px 2px rgba(0, 0, 0, 0.3));\n",
              "      fill: #FFFFFF;\n",
              "    }\n",
              "  </style>\n",
              "\n",
              "    <script>\n",
              "      const buttonEl =\n",
              "        document.querySelector('#df-1143605a-b85b-4523-b240-ce287f5cbe2f button.colab-df-convert');\n",
              "      buttonEl.style.display =\n",
              "        google.colab.kernel.accessAllowed ? 'block' : 'none';\n",
              "\n",
              "      async function convertToInteractive(key) {\n",
              "        const element = document.querySelector('#df-1143605a-b85b-4523-b240-ce287f5cbe2f');\n",
              "        const dataTable =\n",
              "          await google.colab.kernel.invokeFunction('convertToInteractive',\n",
              "                                                    [key], {});\n",
              "        if (!dataTable) return;\n",
              "\n",
              "        const docLinkHtml = 'Like what you see? Visit the ' +\n",
              "          '<a target=\"_blank\" href=https://colab.research.google.com/notebooks/data_table.ipynb>data table notebook</a>'\n",
              "          + ' to learn more about interactive tables.';\n",
              "        element.innerHTML = '';\n",
              "        dataTable['output_type'] = 'display_data';\n",
              "        await google.colab.output.renderOutput(dataTable, element);\n",
              "        const docLink = document.createElement('div');\n",
              "        docLink.innerHTML = docLinkHtml;\n",
              "        element.appendChild(docLink);\n",
              "      }\n",
              "    </script>\n",
              "  </div>\n",
              "\n",
              "\n",
              "<div id=\"df-239f9176-e731-440b-a976-700a3eeb5ccc\">\n",
              "  <button class=\"colab-df-quickchart\" onclick=\"quickchart('df-239f9176-e731-440b-a976-700a3eeb5ccc')\"\n",
              "            title=\"Suggest charts\"\n",
              "            style=\"display:none;\">\n",
              "\n",
              "<svg xmlns=\"http://www.w3.org/2000/svg\" height=\"24px\"viewBox=\"0 0 24 24\"\n",
              "     width=\"24px\">\n",
              "    <g>\n",
              "        <path d=\"M19 3H5c-1.1 0-2 .9-2 2v14c0 1.1.9 2 2 2h14c1.1 0 2-.9 2-2V5c0-1.1-.9-2-2-2zM9 17H7v-7h2v7zm4 0h-2V7h2v10zm4 0h-2v-4h2v4z\"/>\n",
              "    </g>\n",
              "</svg>\n",
              "  </button>\n",
              "\n",
              "<style>\n",
              "  .colab-df-quickchart {\n",
              "      --bg-color: #E8F0FE;\n",
              "      --fill-color: #1967D2;\n",
              "      --hover-bg-color: #E2EBFA;\n",
              "      --hover-fill-color: #174EA6;\n",
              "      --disabled-fill-color: #AAA;\n",
              "      --disabled-bg-color: #DDD;\n",
              "  }\n",
              "\n",
              "  [theme=dark] .colab-df-quickchart {\n",
              "      --bg-color: #3B4455;\n",
              "      --fill-color: #D2E3FC;\n",
              "      --hover-bg-color: #434B5C;\n",
              "      --hover-fill-color: #FFFFFF;\n",
              "      --disabled-bg-color: #3B4455;\n",
              "      --disabled-fill-color: #666;\n",
              "  }\n",
              "\n",
              "  .colab-df-quickchart {\n",
              "    background-color: var(--bg-color);\n",
              "    border: none;\n",
              "    border-radius: 50%;\n",
              "    cursor: pointer;\n",
              "    display: none;\n",
              "    fill: var(--fill-color);\n",
              "    height: 32px;\n",
              "    padding: 0;\n",
              "    width: 32px;\n",
              "  }\n",
              "\n",
              "  .colab-df-quickchart:hover {\n",
              "    background-color: var(--hover-bg-color);\n",
              "    box-shadow: 0 1px 2px rgba(60, 64, 67, 0.3), 0 1px 3px 1px rgba(60, 64, 67, 0.15);\n",
              "    fill: var(--button-hover-fill-color);\n",
              "  }\n",
              "\n",
              "  .colab-df-quickchart-complete:disabled,\n",
              "  .colab-df-quickchart-complete:disabled:hover {\n",
              "    background-color: var(--disabled-bg-color);\n",
              "    fill: var(--disabled-fill-color);\n",
              "    box-shadow: none;\n",
              "  }\n",
              "\n",
              "  .colab-df-spinner {\n",
              "    border: 2px solid var(--fill-color);\n",
              "    border-color: transparent;\n",
              "    border-bottom-color: var(--fill-color);\n",
              "    animation:\n",
              "      spin 1s steps(1) infinite;\n",
              "  }\n",
              "\n",
              "  @keyframes spin {\n",
              "    0% {\n",
              "      border-color: transparent;\n",
              "      border-bottom-color: var(--fill-color);\n",
              "      border-left-color: var(--fill-color);\n",
              "    }\n",
              "    20% {\n",
              "      border-color: transparent;\n",
              "      border-left-color: var(--fill-color);\n",
              "      border-top-color: var(--fill-color);\n",
              "    }\n",
              "    30% {\n",
              "      border-color: transparent;\n",
              "      border-left-color: var(--fill-color);\n",
              "      border-top-color: var(--fill-color);\n",
              "      border-right-color: var(--fill-color);\n",
              "    }\n",
              "    40% {\n",
              "      border-color: transparent;\n",
              "      border-right-color: var(--fill-color);\n",
              "      border-top-color: var(--fill-color);\n",
              "    }\n",
              "    60% {\n",
              "      border-color: transparent;\n",
              "      border-right-color: var(--fill-color);\n",
              "    }\n",
              "    80% {\n",
              "      border-color: transparent;\n",
              "      border-right-color: var(--fill-color);\n",
              "      border-bottom-color: var(--fill-color);\n",
              "    }\n",
              "    90% {\n",
              "      border-color: transparent;\n",
              "      border-bottom-color: var(--fill-color);\n",
              "    }\n",
              "  }\n",
              "</style>\n",
              "\n",
              "  <script>\n",
              "    async function quickchart(key) {\n",
              "      const quickchartButtonEl =\n",
              "        document.querySelector('#' + key + ' button');\n",
              "      quickchartButtonEl.disabled = true;  // To prevent multiple clicks.\n",
              "      quickchartButtonEl.classList.add('colab-df-spinner');\n",
              "      try {\n",
              "        const charts = await google.colab.kernel.invokeFunction(\n",
              "            'suggestCharts', [key], {});\n",
              "      } catch (error) {\n",
              "        console.error('Error during call to suggestCharts:', error);\n",
              "      }\n",
              "      quickchartButtonEl.classList.remove('colab-df-spinner');\n",
              "      quickchartButtonEl.classList.add('colab-df-quickchart-complete');\n",
              "    }\n",
              "    (() => {\n",
              "      let quickchartButtonEl =\n",
              "        document.querySelector('#df-239f9176-e731-440b-a976-700a3eeb5ccc button');\n",
              "      quickchartButtonEl.style.display =\n",
              "        google.colab.kernel.accessAllowed ? 'block' : 'none';\n",
              "    })();\n",
              "  </script>\n",
              "</div>\n",
              "    </div>\n",
              "  </div>\n"
            ]
          },
          "metadata": {},
          "execution_count": 147
        }
      ]
    },
    {
      "cell_type": "code",
      "source": [
        "df.to_csv('zillow_dataframe.csv', index=False)"
      ],
      "metadata": {
        "id": "z-I50aG4I-PZ"
      },
      "execution_count": 148,
      "outputs": []
    }
  ]
}